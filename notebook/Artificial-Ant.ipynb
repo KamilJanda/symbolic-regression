{
 "cells": [
  {
   "cell_type": "markdown",
   "metadata": {},
   "source": [
    "Symbolic Regression\n"
   ]
  },
  {
   "cell_type": "code",
   "execution_count": 226,
   "metadata": {},
   "outputs": [
    {
     "name": "stdout",
     "output_type": "stream",
     "text": [
      "Using matplotlib backend: TkAgg\n"
     ]
    }
   ],
   "source": [
    "import copy\n",
    "import random\n",
    "import logging\n",
    "import os\n",
    "\n",
    "import numpy\n",
    "\n",
    "from functools import partial\n",
    "\n",
    "from deap import algorithms\n",
    "from deap import base\n",
    "from deap import creator\n",
    "from deap import tools\n",
    "from deap import gp\n",
    "\n",
    "%matplotlib\n",
    "import matplotlib.pyplot as plt\n",
    "from matplotlib import colors\n",
    "import numpy as np"
   ]
  },
  {
   "cell_type": "code",
   "execution_count": 205,
   "metadata": {},
   "outputs": [],
   "source": [
    "def progn(*args):\n",
    "    for arg in args:\n",
    "        arg()\n",
    "\n",
    "\n",
    "def prog2(out1, out2):\n",
    "    return partial(progn, out1, out2)\n",
    "\n",
    "\n",
    "def prog3(out1, out2, out3):\n",
    "    return partial(progn, out1, out2, out3)\n"
   ]
  },
  {
   "cell_type": "code",
   "execution_count": 206,
   "metadata": {},
   "outputs": [],
   "source": [
    "def if_then_else(condition, out1, out2):\n",
    "    out1() if condition() else out2()\n"
   ]
  },
  {
   "cell_type": "code",
   "execution_count": 207,
   "metadata": {},
   "outputs": [],
   "source": [
    "class AntSimulator(object):\n",
    "    direction = [\"north\", \"east\", \"south\", \"west\"]\n",
    "    dir_row = [1, 0, -1, 0]\n",
    "    dir_col = [0, 1, 0, -1]\n",
    "\n",
    "    def __init__(self, max_moves):\n",
    "        self.max_moves = max_moves\n",
    "        self.moves = 0\n",
    "        self.eaten = 0\n",
    "        self.routine = None\n",
    "        self.logging = False\n",
    "        self.move_history = []\n",
    "\n",
    "    def _reset(self):\n",
    "        self.row = self.row_start\n",
    "        self.col = self.col_start\n",
    "        self.dir = 1\n",
    "        self.moves = 0\n",
    "        self.move_history = []\n",
    "        self.eaten = 0\n",
    "        self.matrix_exc = copy.deepcopy(self.matrix)\n",
    "\n",
    "    @property\n",
    "    def position(self):\n",
    "        return (self.row, self.col, self.direction[self.dir])\n",
    "\n",
    "    def turn_left(self):\n",
    "        self.move_history.append(\"LEFT\") if self.logging else None\n",
    "        if self.moves < self.max_moves:\n",
    "            self.moves += 1\n",
    "            self.dir = (self.dir - 1) % 4\n",
    "\n",
    "    def turn_right(self):\n",
    "        self.move_history.append(\"RIGHT\") if self.logging else None\n",
    "        if self.moves < self.max_moves:\n",
    "            self.moves += 1\n",
    "            self.dir = (self.dir + 1) % 4\n",
    "\n",
    "    def move_forward(self):\n",
    "        self.move_history.append(\"FORWARD\") if self.logging else None\n",
    "        if self.moves < self.max_moves:\n",
    "            self.moves += 1\n",
    "            self.row = (self.row + self.dir_row[self.dir]) % self.matrix_row\n",
    "            self.col = (self.col + self.dir_col[self.dir]) % self.matrix_col\n",
    "            if self.matrix_exc[self.row][self.col] == \"food\":\n",
    "                self.eaten += 1\n",
    "            self.matrix_exc[self.row][self.col] = \"passed\"\n",
    "\n",
    "    def sense_food(self):\n",
    "        ahead_row = (self.row + self.dir_row[self.dir]) % self.matrix_row\n",
    "        ahead_col = (self.col + self.dir_col[self.dir]) % self.matrix_col\n",
    "        return self.matrix_exc[ahead_row][ahead_col] == \"food\"\n",
    "\n",
    "    def sense_sides(self):\n",
    "        left_row = (self.row + self.dir_row[(self.dir - 1) % 4]) % self.matrix_row\n",
    "        left_col = (self.col + self.dir_col[(self.dir - 1) % 4]) % self.matrix_col\n",
    "        right_row = (self.row + self.dir_row[(self.dir + 1) % 4]) % self.matrix_row\n",
    "        right_col = (self.col + self.dir_col[(self.dir + 1) % 4]) % self.matrix_col\n",
    "        return (self.matrix_exc[left_row][left_col] == \"food\") or (self.matrix_exc[right_row][right_col] == \"food\")\n",
    "\n",
    "    def if_food_ahead(self, out1, out2):\n",
    "        return partial(if_then_else, self.sense_food, out1, out2)\n",
    "\n",
    "    def if_food_aside(self, out1, out2):\n",
    "        return partial(if_then_else, self.sense_sides, out1, out2)\n",
    "\n",
    "    def run(self, routine):\n",
    "        self._reset()\n",
    "        while self.moves < self.max_moves:\n",
    "            routine()\n",
    "\n",
    "    def parse_matrix(self, matrix):\n",
    "        self.matrix = list()\n",
    "        for i, line in enumerate(matrix):\n",
    "            self.matrix.append(list())\n",
    "            for j, col in enumerate(line):\n",
    "                if col == \"#\":\n",
    "                    self.matrix[-1].append(\"food\")\n",
    "                elif col == \".\":\n",
    "                    self.matrix[-1].append(\"empty\")\n",
    "                elif col == \"S\":\n",
    "                    self.matrix[-1].append(\"empty\")\n",
    "                    self.row_start = self.row = i\n",
    "                    self.col_start = self.col = j\n",
    "                    self.dir = 1\n",
    "        self.matrix_row = len(self.matrix)\n",
    "        self.matrix_col = len(self.matrix[0])\n",
    "        self.matrix_exc = copy.deepcopy(self.matrix)\n"
   ]
  },
  {
   "cell_type": "code",
   "execution_count": 208,
   "metadata": {},
   "outputs": [],
   "source": [
    "ant = AntSimulator(200)\n",
    "map_path = \"santa_fe.txt\""
   ]
  },
  {
   "cell_type": "code",
   "execution_count": 209,
   "metadata": {},
   "outputs": [],
   "source": [
    "pset = gp.PrimitiveSet(\"MAIN\", 0)\n",
    "pset.addPrimitive(ant.if_food_ahead, 2)\n",
    "pset.addPrimitive(ant.if_food_aside, 2)\n",
    "pset.addPrimitive(prog2, 2)\n",
    "pset.addPrimitive(prog3, 3)\n",
    "pset.addTerminal(ant.move_forward)\n",
    "pset.addTerminal(ant.turn_left)\n",
    "pset.addTerminal(ant.turn_right)"
   ]
  },
  {
   "cell_type": "code",
   "execution_count": 210,
   "metadata": {},
   "outputs": [],
   "source": [
    "creator.create(\"FitnessMax\", base.Fitness, weights=(1.0,))\n",
    "creator.create(\"Individual\", gp.PrimitiveTree, fitness=creator.FitnessMax)"
   ]
  },
  {
   "cell_type": "code",
   "execution_count": 211,
   "metadata": {},
   "outputs": [],
   "source": [
    "toolbox = base.Toolbox()\n",
    "\n",
    "# Attribute generator\n",
    "toolbox.register(\"expr_init\", gp.genFull, pset=pset, min_=1, max_=2)\n",
    "\n",
    "# Structure initializers\n",
    "toolbox.register(\"individual\", tools.initIterate, creator.Individual, toolbox.expr_init)\n",
    "toolbox.register(\"population\", tools.initRepeat, list, toolbox.individual)\n"
   ]
  },
  {
   "cell_type": "code",
   "execution_count": 212,
   "metadata": {},
   "outputs": [],
   "source": [
    "def set_map(path):\n",
    "    with  open(path) as trail_file:\n",
    "        ant.parse_matrix(trail_file)\n",
    "\n",
    "\n",
    "def rotate_180(ant):\n",
    "    for list in ant.matrix:\n",
    "        list.reverse()\n",
    "\n",
    "\n",
    "def rotate_90(ant):\n",
    "    ant.matrix.reverse()\n",
    "\n",
    "    \n",
    "def evalArtificialAnt(individual):\n",
    "    # Transform the tree expression to functionnal Python code\n",
    "    routine = gp.compile(individual, pset)\n",
    "    # Run the generated routine\n",
    "    ant.run(routine)\n",
    "    return ant.eaten,"
   ]
  },
  {
   "cell_type": "code",
   "execution_count": 213,
   "metadata": {},
   "outputs": [],
   "source": [
    "toolbox.register(\"evaluate\", evalArtificialAnt)\n",
    "toolbox.register(\"select\", tools.selTournament, tournsize=7)\n",
    "toolbox.register(\"mate\", gp.cxOnePoint)\n",
    "toolbox.register(\"expr_mut\", gp.genFull, min_=0, max_=2)\n",
    "toolbox.register(\"mutate\", gp.mutUniform, expr=toolbox.expr_mut, pset=pset)\n"
   ]
  },
  {
   "cell_type": "code",
   "execution_count": 214,
   "metadata": {},
   "outputs": [],
   "source": [
    "def run_evolution():\n",
    "    random.seed()\n",
    "    set_map(map_path)\n",
    "\n",
    "    pop = toolbox.population(n=300)\n",
    "    hof = tools.HallOfFame(1)\n",
    "    stats = tools.Statistics(lambda ind: ind.fitness.values)\n",
    "    stats.register(\"avg\", numpy.mean)\n",
    "    stats.register(\"min\", numpy.min)\n",
    "    stats.register(\"max\", numpy.max)\n",
    "\n",
    "    algorithms.eaSimple(pop, toolbox, 0.5, 0.4, 40, stats, halloffame=hof, verbose=True)\n",
    "\n",
    "    return pop, hof, stats"
   ]
  },
  {
   "cell_type": "code",
   "execution_count": 215,
   "metadata": {},
   "outputs": [
    {
     "name": "stdout",
     "output_type": "stream",
     "text": [
      "gen\tnevals\tavg \tmin\tmax\n",
      "0  \t300   \t3.22\t0  \t38 \n",
      "1  \t216   \t8.78667\t0  \t38 \n",
      "2  \t211   \t15.3667\t0  \t38 \n",
      "3  \t214   \t21.1833\t0  \t44 \n",
      "4  \t222   \t22.24  \t0  \t89 \n",
      "5  \t208   \t26.52  \t0  \t89 \n",
      "6  \t221   \t28.7667\t0  \t89 \n",
      "7  \t188   \t34.8667\t0  \t89 \n",
      "8  \t214   \t43.3033\t0  \t89 \n",
      "9  \t217   \t48.9833\t0  \t89 \n",
      "10 \t220   \t55.6967\t0  \t89 \n",
      "11 \t200   \t55.82  \t0  \t89 \n",
      "12 \t214   \t56.7333\t0  \t89 \n",
      "13 \t208   \t58.5033\t0  \t89 \n",
      "14 \t206   \t61.26  \t0  \t89 \n",
      "15 \t197   \t64.49  \t0  \t89 \n",
      "16 \t217   \t62.23  \t0  \t89 \n",
      "17 \t211   \t64.8967\t0  \t89 \n",
      "18 \t208   \t65.6767\t0  \t89 \n",
      "19 \t210   \t67.7467\t0  \t89 \n",
      "20 \t195   \t70.3033\t0  \t89 \n",
      "21 \t212   \t68.9133\t0  \t89 \n",
      "22 \t213   \t72.32  \t0  \t89 \n",
      "23 \t198   \t75.8767\t0  \t89 \n",
      "24 \t220   \t71.64  \t0  \t89 \n",
      "25 \t214   \t75.83  \t0  \t89 \n",
      "26 \t223   \t72.3467\t0  \t89 \n",
      "27 \t227   \t74.3733\t0  \t89 \n",
      "28 \t185   \t80.2733\t0  \t89 \n",
      "29 \t207   \t75.24  \t0  \t89 \n",
      "30 \t210   \t72.6233\t0  \t89 \n",
      "31 \t199   \t77.84  \t0  \t89 \n",
      "32 \t220   \t77.3167\t0  \t89 \n",
      "33 \t221   \t77.06  \t0  \t89 \n",
      "34 \t207   \t77.97  \t0  \t89 \n",
      "35 \t218   \t76.2533\t0  \t89 \n",
      "36 \t213   \t77.4033\t0  \t89 \n",
      "37 \t207   \t79.2733\t0  \t89 \n",
      "38 \t234   \t76.5867\t0  \t89 \n",
      "39 \t198   \t77.6933\t0  \t89 \n",
      "40 \t219   \t78.49  \t0  \t89 \n"
     ]
    }
   ],
   "source": [
    "pop, hof, stats = run_evolution()"
   ]
  },
  {
   "cell_type": "code",
   "execution_count": 216,
   "metadata": {},
   "outputs": [],
   "source": [
    "ant.logging = True\n",
    "best_ind = hof[0]"
   ]
  },
  {
   "cell_type": "code",
   "execution_count": 217,
   "metadata": {},
   "outputs": [
    {
     "name": "stdout",
     "output_type": "stream",
     "text": [
      "200\n"
     ]
    }
   ],
   "source": [
    "best_score = evalArtificialAnt(best_ind)\n",
    "move_history = ant.move_history\n",
    "\n",
    "print(len(move_history))"
   ]
  },
  {
   "cell_type": "code",
   "execution_count": 227,
   "metadata": {},
   "outputs": [],
   "source": [
    "dir_row = [1, 0, -1, 0]\n",
    "dir_col = [0, 1, 0, -1]\n",
    "\n",
    "def convert_matrix(file):\n",
    "    with  open(file) as trail_file:\n",
    "        x = y = direction = -1\n",
    "        data = list()\n",
    "        for i, line in enumerate(trail_file):\n",
    "            data.append(list())\n",
    "            for j, col in enumerate(line):\n",
    "                if col == \"#\":\n",
    "                    data[-1].append(15)\n",
    "                elif col == \".\":\n",
    "                    data[-1].append(5)\n",
    "                elif col == \"S\":\n",
    "                    data[-1].append(35)\n",
    "                    y = i\n",
    "                    x = j\n",
    "        dim_y = len(data)\n",
    "        dim_x = len(data[0])\n",
    "        return data, x, y, dim_x, dim_y\n",
    "\n",
    "\n",
    "def turn_left(dir):\n",
    "    return (dir - 1) % 4\n",
    "\n",
    "\n",
    "def turn_right(dir):\n",
    "    return (dir + 1) % 4\n",
    "\n",
    "\n",
    "def move(data, x, y, dim_x, dim_y, direction):\n",
    "    data[x][y] = 25\n",
    "    x = (x + dir_row[direction]) % dim_x\n",
    "    y = (y + dir_col[direction]) % dim_y\n",
    "    data[x][y] = 35\n",
    "    return data, x, y\n",
    "\n",
    "\n",
    "def parse_movement(data, moves, img, x, y):\n",
    "        interval = 0.0001\n",
    "        direction = 1\n",
    "        dim_y = len(data)\n",
    "        dim_x = len(data[0])\n",
    "        for single in moves:\n",
    "            if single == \"LEFT\":\n",
    "                direction = turn_left(direction)\n",
    "            elif single == \"RIGHT\":\n",
    "                direction = turn_right(direction)\n",
    "            elif single == \"FORWARD\":\n",
    "                data, x, y = move(data, x, y, dim_x, dim_y, direction)\n",
    "                plt.pause(interval)\n",
    "            img.set_data(data)\n"
   ]
  },
  {
   "cell_type": "code",
   "execution_count": 228,
   "metadata": {},
   "outputs": [],
   "source": [
    "# create discrete colormap\n",
    "cmap = colors.ListedColormap(['white', 'red', 'blue', 'black'])\n",
    "\n",
    "# 5 - blank | 15 - food | 25 visited | 35 - actual\n",
    "bounds = [0, 10, 20, 30, 40]\n",
    "norm = colors.BoundaryNorm(bounds, cmap.N)\n",
    "\n",
    "data, x, y, dim_x, dim_y = convert_matrix(map_path)\n",
    "\n",
    "fig, ax = plt.subplots()\n",
    "img = ax.imshow(data, cmap=cmap, norm=norm)\n",
    "\n",
    "# draw gridlines\n",
    "ax.grid(which='major', axis='both', linestyle='-', color='k', linewidth=2)\n",
    "ax.set_xticks(np.arange(0.5, dim_x, 1))\n",
    "ax.set_yticks(np.arange(0.5, dim_y, 1))\n",
    "\n",
    "plt.ion()\n",
    "parse_movement(data, move_history, img, x, y)"
   ]
  },
  {
   "cell_type": "code",
   "execution_count": null,
   "metadata": {},
   "outputs": [],
   "source": []
  }
 ],
 "metadata": {
  "kernelspec": {
   "display_name": "logistic",
   "language": "python",
   "name": "logistic"
  },
  "language_info": {
   "codemirror_mode": {
    "name": "ipython",
    "version": 3
   },
   "file_extension": ".py",
   "mimetype": "text/x-python",
   "name": "python",
   "nbconvert_exporter": "python",
   "pygments_lexer": "ipython3",
   "version": "3.6.6"
  }
 },
 "nbformat": 4,
 "nbformat_minor": 2
}
